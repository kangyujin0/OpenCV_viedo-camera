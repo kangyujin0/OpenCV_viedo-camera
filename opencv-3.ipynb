{
 "cells": [
  {
   "cell_type": "code",
   "execution_count": null,
   "metadata": {},
   "outputs": [],
   "source": [
    "# 이미지 변환, 기하변환, 크기, 이동, 회전\n",
    "# 변환종류 - \n",
    "# rigid-body - 크기와 각도 변화x -> 이동, 회전\n",
    "# similarity - 크기 변화o, 각도x -> 크기 변경\n",
    "# affine     - 크기와 각도 변화o 선이 수평선유지o ->\n",
    "# perspective - 크기와 각도 변화o 선이 수평선유지x -> 원근법\n",
    "\n",
    "#기준점"
   ]
  },
  {
   "cell_type": "code",
   "execution_count": 1,
   "metadata": {},
   "outputs": [],
   "source": [
    "import cv2\n",
    "import numpy as np\n",
    "import matplotlib.pyplot as plt\n",
    "\n",
    "def scale_normal(img, scale_x=1,scale_y=1):\n",
    "    height,width=img.shape\n",
    "    _img=np.zeros(int(height*scale_y),int(width*scale_x),dtype=np.uint8) #ex) scale 0.5=500->250\n",
    "    for y in range(height):\n",
    "        for x in range(width):\n",
    "            try:\n",
    "                _img[int(y*scale_y),int(x*scale_x)]=img[y,x] # \n",
    "            except:\n",
    "                print('An exception occurred')\n",
    "    return _img\n",
    "      \n",
    "                      \n",
    "           \n",
    "img = cv2.imread('images/lena.jpg', cv2.IMREAD_GRAYSCALE)\n",
    "result=scale_normal(img,0.5,0.5)\n",
    "cv2.imshow('origin', img)    \n",
    " \n",
    " \n",
    " \n",
    " \n",
    "cv2.imshow('image',image)\n",
    "cv2.waitKey(0)\n",
    "cv2.destroyAllWindows()"
   ]
  }
 ],
 "metadata": {
  "kernelspec": {
   "display_name": "Python 3",
   "language": "python",
   "name": "python3"
  },
  "language_info": {
   "codemirror_mode": {
    "name": "ipython",
    "version": 3
   },
   "file_extension": ".py",
   "mimetype": "text/x-python",
   "name": "python",
   "nbconvert_exporter": "python",
   "pygments_lexer": "ipython3",
   "version": "3.11.7"
  }
 },
 "nbformat": 4,
 "nbformat_minor": 2
}
